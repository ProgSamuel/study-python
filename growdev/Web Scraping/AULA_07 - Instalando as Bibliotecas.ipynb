{
 "cells": [
  {
   "cell_type": "markdown",
   "metadata": {},
   "source": [
    "![Growdev](https://www.growdev.com.br/assets/images/logo_growdev.png)"
   ]
  },
  {
   "cell_type": "markdown",
   "metadata": {},
   "source": [
    "Para fazer requisições HTTP e obter o HTML da página.\n",
    "- pip install requests\n",
    "\n",
    "\n",
    " Para fazer o parsing do HTML e extrair dados de maneira mais fácil.\n",
    "- pip install beautifulsoup4\n",
    "\n",
    "\n",
    "Para interagir com páginas que usam JavaScript dinâmico, permitindo controlar navegadores diretamente (útil com Chrome WebDriver).\n",
    "- pip install selenium\n",
    "\n",
    "\n",
    "Alternativa de parser HTML/XML que pode ser usada com BeautifulSoup.\n",
    "- pip install lxml\n",
    "\n",
    "\n",
    " Um framework completo para web scraping que facilita a criação de crawlers avançados.\n",
    "- pip install scrapy\n",
    "\n",
    "\n",
    "Uma alternativa que permite realizar requisições e renderizar JavaScript sem a necessidade do Selenium (para casos mais simples).\n",
    "- pip install requests-html\n",
    "\n",
    "\n",
    "Biblioteca parecida com jQuery que facilita a manipulação de HTML e é integrada ao lxml.\n",
    "- pip install pyquery"
   ]
  }
 ],
 "metadata": {
  "kernelspec": {
   "display_name": "Python 3",
   "language": "python",
   "name": "python3"
  },
  "language_info": {
   "codemirror_mode": {
    "name": "ipython",
    "version": 3
   },
   "file_extension": ".py",
   "mimetype": "text/x-python",
   "name": "python",
   "nbconvert_exporter": "python",
   "pygments_lexer": "ipython3",
   "version": "3.12.4"
  }
 },
 "nbformat": 4,
 "nbformat_minor": 2
}
