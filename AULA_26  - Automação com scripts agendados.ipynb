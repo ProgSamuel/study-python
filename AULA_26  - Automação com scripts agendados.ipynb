{
 "cells": [
  {
   "cell_type": "markdown",
   "metadata": {},
   "source": [
    "![Growdev](https://www.growdev.com.br/assets/images/logo_growdev.png)"
   ]
  },
  {
   "cell_type": "code",
   "execution_count": 1,
   "metadata": {},
   "outputs": [
    {
     "name": "stdout",
     "output_type": "stream",
     "text": [
      "Defaulting to user installation because normal site-packages is not writeable\n",
      "Collecting schedule\n",
      "  Downloading schedule-1.2.2-py3-none-any.whl (12 kB)\n",
      "Installing collected packages: schedule\n",
      "Successfully installed schedule-1.2.2\n",
      "Note: you may need to restart the kernel to use updated packages.\n"
     ]
    }
   ],
   "source": [
    "pip install schedule"
   ]
  },
  {
   "cell_type": "code",
   "execution_count": 2,
   "metadata": {},
   "outputs": [],
   "source": [
    "import time\n",
    "from bs4 import BeautifulSoup\n",
    "from selenium import webdriver\n",
    "from selenium.webdriver.common.keys import Keys\n",
    "from selenium.webdriver.common.by import By\n",
    "from selenium.webdriver import ActionChains\n",
    "from selenium.webdriver.support.ui import WebDriverWait\n",
    "import random\n",
    "\n",
    "import schedule\n"
   ]
  },
  {
   "cell_type": "code",
   "execution_count": 3,
   "metadata": {},
   "outputs": [],
   "source": [
    "def config_inicial(dados_element, driver):\n",
    "\n",
    "    element = driver.find_element('xpath', dados_element)\n",
    "    html_content = element.get_attribute('outerHTML')\n",
    "    soup = BeautifulSoup(html_content, 'html.parser')\n",
    "    return soup"
   ]
  },
  {
   "cell_type": "code",
   "execution_count": 5,
   "metadata": {},
   "outputs": [],
   "source": [
    "def action(driver, xpath_vaga):\n",
    "\n",
    "    elemento = driver.find_element(By.XPATH, xpath_vaga)\n",
    "\n",
    "    action = ActionChains(driver)\n",
    "    \n",
    "    action.click(elemento).perform()\n",
    "    \n",
    "    driver.current_url\n",
    "    \n",
    "    aleatory_time = round(random.uniform(2, 6), 2)\n",
    "    \n",
    "    time.sleep(aleatory_time)"
   ]
  },
  {
   "cell_type": "code",
   "execution_count": null,
   "metadata": {},
   "outputs": [],
   "source": [
    "def scrap():\n",
    "        login = False\n",
    "\n",
    "        while login == False:\n",
    "\n",
    "            try:\n",
    "                driver = webdriver.Chrome()\n",
    "                driver.get(\"https://www.linkedin.com/checkpoint/lg/sign-in-another-account\")\n",
    "\n",
    "                time.sleep(5)\n",
    "                email = driver.find_element(By.XPATH, '//*[@id=\"username\"]')\n",
    "                password = driver.find_element(By.XPATH, '//*[@id=\"password\"]') \n",
    "\n",
    "                email.send_keys(\"email\")\n",
    "                password.send_keys(\"senha\")\n",
    "\n",
    "                password.send_keys(Keys.RETURN)\n",
    "\n",
    "                login = True\n",
    "\n",
    "            except:\n",
    "                driver.quit()\n",
    "                \n",
    "        link_busca = [ 'https://www.linkedin.com/jobs/search/?currentJobId=3699223733&keywords=FLUTTER%20MOBILE%20JR&origin=SWITCH_SEARCH_VERTICAL', \n",
    "                      'https://www.linkedin.com/jobs/search/?currentJobId=4062301962&keywords=engenharia%20de%20dados&origin=SWITCH_SEARCH_VERTICAL']\n",
    "\n",
    "        for link in link_busca:\n",
    "            driver.get(link)\n",
    "\n",
    "            time.sleep(5)\n",
    "            \n",
    "            for i in range(25): \n",
    "                xpath_vaga = f'/html/body/div[7]/div[3]/div[4]/div/div/main/div/div[2]/div[1]/div/ul/li[{i+1}]'\n",
    "                action(driver, xpath_vaga)\n"
   ]
  },
  {
   "cell_type": "markdown",
   "metadata": {},
   "source": [
    "[Documentação lib Schedule](https://schedule.readthedocs.io/en/stable/)"
   ]
  },
  {
   "cell_type": "code",
   "execution_count": null,
   "metadata": {},
   "outputs": [],
   "source": [
    "    \n",
    "def agendar_tarefa():\n",
    "    \n",
    "    schedule.every(2).hours.do(scrap)\n",
    "\n",
    "    while True:\n",
    "        schedule.run_pending()\n",
    "        time.sleep(1)\n",
    "    "
   ]
  },
  {
   "cell_type": "code",
   "execution_count": null,
   "metadata": {},
   "outputs": [],
   "source": [
    "agendar_tarefa()"
   ]
  },
  {
   "cell_type": "code",
   "execution_count": null,
   "metadata": {},
   "outputs": [],
   "source": [
    "while True:\n",
    "    scrap()"
   ]
  }
 ],
 "metadata": {
  "kernelspec": {
   "display_name": "Python 3",
   "language": "python",
   "name": "python3"
  },
  "language_info": {
   "codemirror_mode": {
    "name": "ipython",
    "version": 3
   },
   "file_extension": ".py",
   "mimetype": "text/x-python",
   "name": "python",
   "nbconvert_exporter": "python",
   "pygments_lexer": "ipython3",
   "version": "3.10.12"
  }
 },
 "nbformat": 4,
 "nbformat_minor": 2
}
