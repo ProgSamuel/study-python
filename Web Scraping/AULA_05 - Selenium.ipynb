{
 "cells": [
  {
   "cell_type": "markdown",
   "metadata": {},
   "source": [
    "![Growdev](https://www.growdev.com.br/assets/images/logo_growdev.png)"
   ]
  },
  {
   "cell_type": "markdown",
   "metadata": {},
   "source": [
    "[Documentação do Selenium (em português)](https://www.selenium.dev/pt-br/documentation/)\n"
   ]
  },
  {
   "cell_type": "markdown",
   "metadata": {},
   "source": [
    "[Leitura recomendada - Medium Web scraping com Python para preguiçosos (unindo BeautifulSoup e Selenium) — Parte 1. (em português)](https://medium.com/data-hackers/web-scraping-com-python-para-preguiçosos-unindo-beautifulsoup-e-selenium-parte-1-9677fc5e2385)\n"
   ]
  },
  {
   "cell_type": "markdown",
   "metadata": {},
   "source": [
    "[Leitura recomendada - Medium Web scraping com Python para preguiçosos (unindo BeautifulSoup e Selenium) — Parte 2. (em português)](https://medium.com/data-hackers/web-scraping-com-python-para-preguiçosos-unindo-beautifulsoup-e-selenium-parte-2-8cfebf4f34e)"
   ]
  },
  {
   "cell_type": "code",
   "execution_count": null,
   "metadata": {},
   "outputs": [],
   "source": [
    "%pip install selenium\n",
    "%pip install beautifulsoup4 requests\n",
    "%pip install selenium webdriver-manager"
   ]
  },
  {
   "cell_type": "code",
   "execution_count": 10,
   "metadata": {},
   "outputs": [],
   "source": [
    "from selenium import webdriver\n",
    "from selenium.webdriver.chrome.service import Service\n",
    "from selenium.webdriver.common.by import By\n",
    "from selenium.webdriver.common.action_chains import ActionChains\n",
    "from selenium.webdriver.support.ui import WebDriverWait\n",
    "from selenium.webdriver.support import expected_conditions as EC\n",
    "from selenium.webdriver.common.keys import Keys\n",
    "import time"
   ]
  },
  {
   "cell_type": "code",
   "execution_count": 11,
   "metadata": {},
   "outputs": [],
   "source": [
    "url = 'https://pt.wikipedia.org/wiki/Wikip%C3%A9dia:P%C3%A1gina_principal'\n",
    "\n",
    "login = 'Fernando Schneider Growdev'\n",
    "\n",
    "senha = 'FernandoTeste147852369'"
   ]
  },
  {
   "cell_type": "code",
   "execution_count": 12,
   "metadata": {},
   "outputs": [],
   "source": [
    "driver = webdriver.Chrome()\n",
    "driver.get(url)\n",
    "\n",
    "time.sleep(2)  \n",
    "\n",
    "login_button = WebDriverWait(driver, 10).until(EC.element_to_be_clickable((By.XPATH, '//*[@id=\"pt-login-2\"]/a/span')))\n",
    "login_button.click()\n",
    "time.sleep(2)  "
   ]
  },
  {
   "cell_type": "code",
   "execution_count": 13,
   "metadata": {},
   "outputs": [],
   "source": [
    "login_field = WebDriverWait(driver, 10).until(EC.presence_of_element_located((By.XPATH, '//*[@id=\"wpName1\"]')))\n",
    "login_field.send_keys(login)\n",
    "\n",
    "password_field = WebDriverWait(driver, 10).until(EC.presence_of_element_located((By.XPATH, '//*[@id=\"wpPassword1\"]')))\n",
    "password_field.send_keys(senha)\n",
    "\n",
    "\n",
    "login_button = WebDriverWait(driver, 10).until(EC.element_to_be_clickable((By.XPATH, '//*[@id=\"wpLoginAttempt\"]')))\n",
    "login_button.click()\n",
    "\n",
    "\n",
    "time.sleep(2)  "
   ]
  },
  {
   "cell_type": "code",
   "execution_count": 14,
   "metadata": {},
   "outputs": [],
   "source": [
    "search_button = WebDriverWait(driver, 10).until(EC.element_to_be_clickable((By.XPATH, '//*[@id=\"p-search\"]/a/span[1]'))) \n",
    "search_button.click()\n",
    "time.sleep(2)  "
   ]
  },
  {
   "cell_type": "code",
   "execution_count": 15,
   "metadata": {},
   "outputs": [],
   "source": [
    "pesquisa = 'Web Scraping'\n",
    " \n",
    "search_field = WebDriverWait(driver, 10).until(EC.presence_of_element_located((By.XPATH, '//*[@id=\"searchform\"]/div/div/div[1]/input')))\n",
    "search_field.send_keys(pesquisa)\n",
    "time.sleep(1)"
   ]
  },
  {
   "cell_type": "code",
   "execution_count": 16,
   "metadata": {},
   "outputs": [],
   "source": [
    "search_field = WebDriverWait(driver, 10).until(EC.presence_of_element_located((By.XPATH, '//*[@id=\"searchform\"]/div/div/div[1]/input')))\n",
    "search_field.send_keys(Keys.RETURN)  \n",
    "time.sleep(2)"
   ]
  }
 ],
 "metadata": {
  "kernelspec": {
   "display_name": "Python 3",
   "language": "python",
   "name": "python3"
  },
  "language_info": {
   "codemirror_mode": {
    "name": "ipython",
    "version": 3
   },
   "file_extension": ".py",
   "mimetype": "text/x-python",
   "name": "python",
   "nbconvert_exporter": "python",
   "pygments_lexer": "ipython3",
   "version": "3.12.4"
  }
 },
 "nbformat": 4,
 "nbformat_minor": 2
}
